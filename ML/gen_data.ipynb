{
 "cells": [
  {
   "cell_type": "markdown",
   "metadata": {},
   "source": [
    "# Proof of concept for room occupancy prediction"
   ]
  },
  {
   "cell_type": "markdown",
   "metadata": {},
   "source": [
    "1. Training data generation"
   ]
  },
  {
   "cell_type": "code",
   "execution_count": 1,
   "metadata": {},
   "outputs": [],
   "source": [
    "import pandas as pd\n",
    "import random\n",
    "# Spoof data generation based on adding random noise to hand made subset: \n",
    "\n",
    "spoof_data = pd.read_csv('spoof-peak-day.csv')\n"
   ]
  },
  {
   "cell_type": "code",
   "execution_count": 2,
   "metadata": {
    "tags": [
     "outputPrepend",
     "outputPrepend"
    ]
   },
   "outputs": [],
   "source": [
    "\n",
    "def gen_day(blueprint,date):\n",
    "    timestamps = [date + datetime.timedelta(minutes=5*x) for x in range(288)]\n",
    "    \n",
    "    new_day = blueprint.copy()\n",
    "    for i, row in blueprint.iterrows():\n",
    "        new_day.loc[i,'Occupancy'] += random.randrange(-2,5)\n",
    "        if new_day.loc[i,'Occupancy'] < 0:\n",
    "            new_day.loc[i, 'Occupancy'] = 1\n",
    "        elif new_day.loc[i,'Occupancy'] > 300:\n",
    "            new_day.loc[i, 'Occupancy'] = 300\n",
    "            \n",
    "        new_day.loc[:,'Timestamp'] = timestamps\n",
    "    return new_day\n",
    "\n",
    "\n",
    ""
   ]
  },
  {
   "cell_type": "code",
   "execution_count": 3,
   "metadata": {
    "tags": [
     "outputPrepend",
     "outputPrepend",
     "outputPrepend",
     "outputPrepend"
    ]
   },
   "outputs": [],
   "source": [
    "import datetime\n",
    "num_days = 50\n",
    "start_day = datetime.datetime(2020,5,20)\n",
    "date_list = [start_day - datetime.timedelta(days=x) for x in range(num_days)]\n",
    "new_days = [gen_day(spoof_data,day) for day in date_list]"
   ]
  },
  {
   "cell_type": "code",
   "execution_count": 4,
   "metadata": {},
   "outputs": [],
   "source": [
    "# new_day_1 = new_days[1]\n",
    "for i in range(len(date_list)):\n",
    "    new_days[i].to_csv(f'./gen/{date_list[i]}-data.csv')"
   ]
  }
 ],
 "metadata": {
  "kernelspec": {
   "name": "python37564bitmlpipenv956ca4be225a4b028772042a5b1d3829",
   "display_name": "Python 3.7.5 64-bit ('ML': pipenv)"
  }
 },
 "nbformat": 4,
 "nbformat_minor": 2
}